{
 "cells": [
  {
   "cell_type": "markdown",
   "metadata": {},
   "source": [
    "# Find info on Acupuncturists in NYC area\n",
    "## Scrape acufinder.com NYC (Zip code) listings"
   ]
  },
  {
   "cell_type": "code",
   "execution_count": 2,
   "metadata": {},
   "outputs": [],
   "source": [
    "import numpy as np\n",
    "import pandas as pd\n",
    "from bs4 import BeautifulSoup\n",
    "import requests"
   ]
  },
  {
   "cell_type": "markdown",
   "metadata": {},
   "source": [
    "## desired info\n",
    "- Name\n",
    "- Degree\n",
    "- Address (zip in its own column)\n",
    "- Phone\n",
    "- Website"
   ]
  },
  {
   "cell_type": "code",
   "execution_count": 3,
   "metadata": {},
   "outputs": [],
   "source": [
    "url = 'https://www.acufinder.com/list_acupuncturists.php?zip=10011&distance=50&country=62&state=NY&province=&city=&firstname=&lastname=&style=&technique=&expertise=&language=&listtype=paidandfree&association=&searchtype=searchform&srt=rnd&show_all=true&page=1'"
   ]
  },
  {
   "cell_type": "code",
   "execution_count": 710,
   "metadata": {},
   "outputs": [],
   "source": [
    "def acupunc_me(acufinder):\n",
    "    url = acufinder\n",
    "    soup = BeautifulSoup(requests.get(url).content, 'lxml')\n",
    "    main_table = soup.findAll('td',{'class':'maincopy'})[0]\n",
    "    aindex = range(1,len(main_table.contents[12].contents)-2,2)\n",
    "    Name = [main_table.contents[12].contents[i].strong.text for i in aindex]\n",
    "    Credential = [main_table.contents[12].contents[aindex[i]].text.strip().split(Name[i])[1].split('\\n')[0].strip() for i in range(len(aindex))]\n",
    "    loc_raw = [main_table.contents[12].contents[aindex[i]].contents[1].contents[3].contents[3].contents[1].contents[-9:] for i in range(len(aindex))]\n",
    "    \n",
    "    values = [''.join(str(loc_raw[i]).replace(\"'\",'').replace('<br/>','').replace('\"','').replace(\"\\\\\",\"|\").replace('|n','').strip()) for i in range(len(loc_raw))]\n",
    "    values = [v for v in values if len(v) > 1]\n",
    "    values = [values[i].split(',')[1:-1] for i in range(len(values))]\n",
    "    phone = [pd.Series(values).map(lambda x: [i for i in x if len(i) > 3][-1])[j][16:-9].replace('-','') for j in range(len(values))]\n",
    "\n",
    "    address = pd.Series(values).map(lambda x: ' '.join([i.strip() for i in x if len(i) > 3 and i != \"no);return false;>Get Directions</a>\"][-5:-3]))\n",
    "    address = address.map(lambda x: '' if x.find('http://') > 0 else x)\n",
    "\n",
    "    city = pd.Series(values).map(lambda x: [i.strip() for i in x if len(i) > 3][-5:-2][-1])\n",
    "    state = pd.Series(values).map(lambda x: [i.strip() for i in x if len(i) > 3][-5:-1][-1].split()[0])#[95][-1].split()[0]\n",
    "    zip_code = [pd.Series(values).map(lambda x: [i[-5:] for i in x if len(i) > 3][-2])[j] for j in range(len(values))]\n",
    "    \n",
    "    \n",
    "    website = []\n",
    "    for i in aindex:\n",
    "        try:\n",
    "            if main_table.contents[12].contents[i].findAll('a',href=True)[4].text == 'Visit My Website':\n",
    "                website.append(main_table.contents[12].contents[i].findAll('a',href=True)[4]['href'])\n",
    "            elif main_table.contents[12].contents[i].findAll('a',href=True)[3].text == 'Visit My Website':\n",
    "                website.append(main_table.contents[12].contents[i].findAll('a',href=True)[3]['href'])\n",
    "            else:\n",
    "                website.append('')\n",
    "        except:\n",
    "            website.append('')\n",
    "            \n",
    "    acup = pd.DataFrame({'Name':Name,\n",
    "                        'Credentials':Credential,\n",
    "                        'Phone':phone,\n",
    "                        'Address':address,\n",
    "                        'City':city,\n",
    "                        'State':state,\n",
    "                        'Zip Code':zip_code,\n",
    "                        'Website':website})\n",
    "    return (acup[['Name','Credentials','Phone','Address','City','State','Zip Code','Website']])"
   ]
  },
  {
   "cell_type": "code",
   "execution_count": 728,
   "metadata": {},
   "outputs": [],
   "source": [
    "urls = ['https://www.acufinder.com/list_acupuncturists.php?zip={}&distance=50&country=62&state=NY&province=&city=&firstname=&lastname=&style=&technique=&expertise=&language=&listtype=paidandfree&association=&searchtype=searchform&srt=rnd&show_all=true&page=1'.format(nyczip[i]) for i in range(len(nyczip))]"
   ]
  },
  {
   "cell_type": "code",
   "execution_count": 730,
   "metadata": {},
   "outputs": [],
   "source": [
    "allny = [acupunc_me(urls[i]) for i in range(len(urls))]"
   ]
  },
  {
   "cell_type": "code",
   "execution_count": 731,
   "metadata": {},
   "outputs": [],
   "source": [
    "nydf = pd.concat(allny)"
   ]
  },
  {
   "cell_type": "code",
   "execution_count": 737,
   "metadata": {},
   "outputs": [
    {
     "data": {
      "text/plain": [
       "104"
      ]
     },
     "execution_count": 737,
     "metadata": {},
     "output_type": "execute_result"
    }
   ],
   "source": [
    "len(nydf.drop_duplicates())"
   ]
  },
  {
   "cell_type": "code",
   "execution_count": 713,
   "metadata": {},
   "outputs": [],
   "source": [
    "nycacup = acupunc_me(url).sort_values(by=['Zip Code'],ascending=True)"
   ]
  },
  {
   "cell_type": "code",
   "execution_count": 725,
   "metadata": {},
   "outputs": [],
   "source": [
    "nyczip =(nycacup['Zip Code'].unique()).tolist()"
   ]
  },
  {
   "cell_type": "code",
   "execution_count": 742,
   "metadata": {},
   "outputs": [],
   "source": [
    "nydf.drop_duplicates().sort_values(by=['Zip Code','Name']).to_csv('NYC Acupuncturist.csv',encoding='utf8',index=False)"
   ]
  }
 ],
 "metadata": {
  "kernelspec": {
   "display_name": "Python 3",
   "language": "python",
   "name": "python3"
  },
  "language_info": {
   "codemirror_mode": {
    "name": "ipython",
    "version": 3
   },
   "file_extension": ".py",
   "mimetype": "text/x-python",
   "name": "python",
   "nbconvert_exporter": "python",
   "pygments_lexer": "ipython3",
   "version": "3.6.2"
  }
 },
 "nbformat": 4,
 "nbformat_minor": 2
}
